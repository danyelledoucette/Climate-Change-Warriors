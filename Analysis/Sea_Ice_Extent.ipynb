{
 "cells": [
  {
   "cell_type": "code",
   "execution_count": null,
   "metadata": {},
   "outputs": [],
   "source": [
    "import os\n",
    "import csv\n",
    "import pandas as pd\n",
    "import matplotlib.pyplot as plt\n",
    "import numpy as np\n",
    "import scipy.stats as st\n",
    "from scipy.stats import sem\n",
    "from scipy.stats import stats"
   ]
  },
  {
   "cell_type": "code",
   "execution_count": null,
   "metadata": {},
   "outputs": [],
   "source": [
    "sea_ice_csv = \"../Resources/Arctic_Sea_Ice_Extent.csv\"\n",
    "\n",
    "sea_ice_data = pd.read_csv(sea_ice_csv)\n",
    "sea_ice_data"
   ]
  },
  {
   "cell_type": "code",
   "execution_count": null,
   "metadata": {},
   "outputs": [],
   "source": [
    "x_axis = sea_ice_data[\"Date\"]\n",
    "tick_locations=[]\n",
    "for x in x_axis:\n",
    "    tick_locations.append(x)\n",
    "y_axis = sea_ice_data['MillionSqKm']\n",
    "\n",
    "sea_ice_data.plot(kind='line',legend=False)\n",
    "\n",
    "plt.title('Arctic Sea Ice Extent 1978-2018')\n",
    "plt.xlabel('Day(s) from Start of Study')\n",
    "plt.ylabel('Sea Ice Extent (million sq km)')\n",
    "\n",
    "plt.tight_layout()"
   ]
  },
  {
   "cell_type": "code",
   "execution_count": null,
   "metadata": {},
   "outputs": [],
   "source": [
    "sea_ice_data['Date']= pd.to_datetime(sea_ice_data['Date'].astype(str),format='%M/%d/%y')\n",
    "sea_ice_data['Year'] = pd.DatetimeIndex(sea_ice_data['Date']).year\n",
    "sea_ice_data.drop(['Date'], axis=1)\n"
   ]
  },
  {
   "cell_type": "code",
   "execution_count": null,
   "metadata": {
    "scrolled": false
   },
   "outputs": [],
   "source": [
    "sea_ice_data.columns"
   ]
  },
  {
   "cell_type": "code",
   "execution_count": null,
   "metadata": {},
   "outputs": [],
   "source": [
    "sample_count=len(sea_ice_data['Date'].unique())\n",
    "sample_count_df=pd.DataFrame({'Number of Samples Taken': [sample_count]})\n",
    "sample_count_df"
   ]
  },
  {
   "cell_type": "code",
   "execution_count": null,
   "metadata": {},
   "outputs": [],
   "source": [
    "unique_years=len(sea_ice_data['Year'].unique())\n",
    "unique_years"
   ]
  },
  {
   "cell_type": "code",
   "execution_count": null,
   "metadata": {},
   "outputs": [],
   "source": [
    "sea_ice_data.groupby(by='Year').sum('MillionSqKm')\n",
    "clean_sea_ice_data=sea_ice_data.groupby(by='Year').sum('MillionSqKm')\n",
    "clean_sea_ice=pd.DataFrame({\"Year\":\"Year\", \"MillionSqKm\":\"Sum MillionSqKm\"})\n"
   ]
  },
  {
   "cell_type": "code",
   "execution_count": null,
   "metadata": {},
   "outputs": [],
   "source": [
    "sea_ice_data['MillionSqKm']=sea_ice_data.iloc[:,1:].sum(axis=1)\n",
    "extent_ice=sum(sea_ice_data['MillionSqKm'])/41\n",
    "extent_ice\n"
   ]
  },
  {
   "cell_type": "code",
   "execution_count": null,
   "metadata": {},
   "outputs": [],
   "source": [
    "x_axis = sea_ice_data[\"Date\"]\n",
    "y_axis = sea_ice_data['MillionSqKm']\n",
    "\n",
    "plt.scatter(\n",
    "    x_axis,\n",
    "    y_axis,\n",
    "    marker='o',\n",
    "    facecolors='red',\n",
    "    edgecolors='black',\n",
    "    s=y_axis,\n",
    "    alpha=.75,)\n",
    "plt.title('Arctic Sea Ice Extent 1978-2018')\n",
    "plt.xlabel('Day(s) from Start of Study')\n",
    "plt.ylabel('Sea Ice Extent (million sq km)')\n",
    "\n",
    "plt.tight_layout()\n",
    "plt.show()"
   ]
  },
  {
   "cell_type": "code",
   "execution_count": null,
   "metadata": {},
   "outputs": [],
   "source": []
  }
 ],
 "metadata": {
  "kernelspec": {
   "display_name": "Python 3",
   "language": "python",
   "name": "python3"
  },
  "language_info": {
   "codemirror_mode": {
    "name": "ipython",
    "version": 3
   },
   "file_extension": ".py",
   "mimetype": "text/x-python",
   "name": "python",
   "nbconvert_exporter": "python",
   "pygments_lexer": "ipython3",
   "version": "3.8.5"
  }
 },
 "nbformat": 4,
 "nbformat_minor": 4
}
